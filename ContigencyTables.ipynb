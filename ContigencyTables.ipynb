{
 "cells": [
  {
   "cell_type": "code",
   "execution_count": 1,
   "id": "a0171215",
   "metadata": {},
   "outputs": [],
   "source": [
    "import pandas as pd"
   ]
  },
  {
   "cell_type": "code",
   "execution_count": 2,
   "id": "67e1c7a0",
   "metadata": {},
   "outputs": [],
   "source": [
    "# create a sample dataset\n",
    "data = {\n",
    "    'Bodyweight': ['Normal', 'Normal', 'Overweight', 'Overweight', 'Underweight', 'Normal', 'Overweight', 'Underweight', 'Underweight', 'Overweight'],\n",
    "    'Chocolate consumption': ['Low', 'High', 'Low', 'Low', 'Low', 'High', 'High', 'Low', 'High', 'High']\n",
    "}\n",
    "\n",
    "df = pd.DataFrame(data)\n",
    "\n",
    "# create a contingency table\n",
    "cont_table = pd.crosstab(df['Bodyweight'], df['Chocolate consumption'])\n"
   ]
  },
  {
   "cell_type": "code",
   "execution_count": 4,
   "id": "f5ca8601",
   "metadata": {},
   "outputs": [
    {
     "data": {
      "text/html": [
       "<div>\n",
       "<style scoped>\n",
       "    .dataframe tbody tr th:only-of-type {\n",
       "        vertical-align: middle;\n",
       "    }\n",
       "\n",
       "    .dataframe tbody tr th {\n",
       "        vertical-align: top;\n",
       "    }\n",
       "\n",
       "    .dataframe thead th {\n",
       "        text-align: right;\n",
       "    }\n",
       "</style>\n",
       "<table border=\"1\" class=\"dataframe\">\n",
       "  <thead>\n",
       "    <tr style=\"text-align: right;\">\n",
       "      <th>Chocolate consumption</th>\n",
       "      <th>High</th>\n",
       "      <th>Low</th>\n",
       "    </tr>\n",
       "    <tr>\n",
       "      <th>Bodyweight</th>\n",
       "      <th></th>\n",
       "      <th></th>\n",
       "    </tr>\n",
       "  </thead>\n",
       "  <tbody>\n",
       "    <tr>\n",
       "      <th>Normal</th>\n",
       "      <td>2</td>\n",
       "      <td>1</td>\n",
       "    </tr>\n",
       "    <tr>\n",
       "      <th>Overweight</th>\n",
       "      <td>2</td>\n",
       "      <td>2</td>\n",
       "    </tr>\n",
       "    <tr>\n",
       "      <th>Underweight</th>\n",
       "      <td>1</td>\n",
       "      <td>2</td>\n",
       "    </tr>\n",
       "  </tbody>\n",
       "</table>\n",
       "</div>"
      ],
      "text/plain": [
       "Chocolate consumption  High  Low\n",
       "Bodyweight                      \n",
       "Normal                    2    1\n",
       "Overweight                2    2\n",
       "Underweight               1    2"
      ]
     },
     "execution_count": 4,
     "metadata": {},
     "output_type": "execute_result"
    }
   ],
   "source": [
    "cont_table"
   ]
  },
  {
   "cell_type": "code",
   "execution_count": 5,
   "id": "9a2eba7f",
   "metadata": {},
   "outputs": [],
   "source": [
    "data = {\n",
    "    'Bodyweight': ['< 50kg', '50-69kg', '70-89kg', '> 90kg'],\n",
    "    'Chocolate consumption': ['< 50g','50-150', '> 150g', 'Less than 50g', 'Less than 50g', 'Less than 50g', 'More than 150g', 'More than 150g', 'Less than 50g', 'More than 150g', 'More than 150g']\n",
    "}\n",
    "\n",
    "df = pd.DataFrame(data)\n",
    "\n",
    "# create a contingency table\n",
    "cont_table = pd.crosstab(df['Bodyweight'], df['Chocolate consumption'])"
   ]
  },
  {
   "cell_type": "code",
   "execution_count": 6,
   "id": "66082c79",
   "metadata": {},
   "outputs": [
    {
     "data": {
      "text/html": [
       "<div>\n",
       "<style scoped>\n",
       "    .dataframe tbody tr th:only-of-type {\n",
       "        vertical-align: middle;\n",
       "    }\n",
       "\n",
       "    .dataframe tbody tr th {\n",
       "        vertical-align: top;\n",
       "    }\n",
       "\n",
       "    .dataframe thead th {\n",
       "        text-align: right;\n",
       "    }\n",
       "</style>\n",
       "<table border=\"1\" class=\"dataframe\">\n",
       "  <thead>\n",
       "    <tr style=\"text-align: right;\">\n",
       "      <th>Chocolate consumption</th>\n",
       "      <th>Less than 50g</th>\n",
       "      <th>More than 150g</th>\n",
       "    </tr>\n",
       "    <tr>\n",
       "      <th>Bodyweight</th>\n",
       "      <th></th>\n",
       "      <th></th>\n",
       "    </tr>\n",
       "  </thead>\n",
       "  <tbody>\n",
       "    <tr>\n",
       "      <th>50-69kg</th>\n",
       "      <td>0</td>\n",
       "      <td>2</td>\n",
       "    </tr>\n",
       "    <tr>\n",
       "      <th>70-89kg</th>\n",
       "      <td>1</td>\n",
       "      <td>2</td>\n",
       "    </tr>\n",
       "    <tr>\n",
       "      <th>90kg or more</th>\n",
       "      <td>1</td>\n",
       "      <td>1</td>\n",
       "    </tr>\n",
       "    <tr>\n",
       "      <th>Less than 50kg</th>\n",
       "      <td>3</td>\n",
       "      <td>0</td>\n",
       "    </tr>\n",
       "  </tbody>\n",
       "</table>\n",
       "</div>"
      ],
      "text/plain": [
       "Chocolate consumption  Less than 50g  More than 150g\n",
       "Bodyweight                                          \n",
       "50-69kg                            0               2\n",
       "70-89kg                            1               2\n",
       "90kg or more                       1               1\n",
       "Less than 50kg                     3               0"
      ]
     },
     "execution_count": 6,
     "metadata": {},
     "output_type": "execute_result"
    }
   ],
   "source": [
    "cont_table"
   ]
  },
  {
   "cell_type": "code",
   "execution_count": null,
   "id": "dee40832",
   "metadata": {},
   "outputs": [],
   "source": []
  }
 ],
 "metadata": {
  "kernelspec": {
   "display_name": "Python 3 (ipykernel)",
   "language": "python",
   "name": "python3"
  },
  "language_info": {
   "codemirror_mode": {
    "name": "ipython",
    "version": 3
   },
   "file_extension": ".py",
   "mimetype": "text/x-python",
   "name": "python",
   "nbconvert_exporter": "python",
   "pygments_lexer": "ipython3",
   "version": "3.9.13"
  }
 },
 "nbformat": 4,
 "nbformat_minor": 5
}
